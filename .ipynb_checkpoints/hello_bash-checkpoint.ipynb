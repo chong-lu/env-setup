{
 "cells": [
  {
   "cell_type": "markdown",
   "id": "f7b71d70-d1ee-45bc-a39f-5410152bc16a",
   "metadata": {},
   "source": [
    "# Hello World in Bash\n",
    "This notebook demonstrates a Bash script using Jupyter's `%%bash` magic."
   ]
  },
  {
   "cell_type": "code",
   "execution_count": 2,
   "id": "b8da0492-8289-402c-a51a-99203c984176",
   "metadata": {},
   "outputs": [
    {
     "name": "stdout",
     "output_type": "stream",
     "text": [
      "Hello, World from Bash!\n"
     ]
    }
   ],
   "source": [
    "%%bash\n",
    "echo \"Hello, World from Bash!\""
   ]
  },
  {
   "cell_type": "code",
   "execution_count": null,
   "id": "20bd73ad-c46d-47cb-8551-90974425b5e1",
   "metadata": {},
   "outputs": [],
   "source": []
  }
 ],
 "metadata": {
  "kernelspec": {
   "display_name": "Python (7030_class_1)",
   "language": "python",
   "name": "7030_class_1"
  },
  "language_info": {
   "codemirror_mode": {
    "name": "ipython",
    "version": 3
   },
   "file_extension": ".py",
   "mimetype": "text/x-python",
   "name": "python",
   "nbconvert_exporter": "python",
   "pygments_lexer": "ipython3",
   "version": "3.10.13"
  }
 },
 "nbformat": 4,
 "nbformat_minor": 5
}
